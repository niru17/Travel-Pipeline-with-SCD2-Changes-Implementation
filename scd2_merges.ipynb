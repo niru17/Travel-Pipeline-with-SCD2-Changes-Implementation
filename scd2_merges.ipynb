{
 "cells": [
  {
   "cell_type": "code",
   "execution_count": 0,
   "metadata": {
    "application/vnd.databricks.v1+cell": {
     "cellMetadata": {
      "byteLimit": 2048000,
      "rowLimit": 10000
     },
     "inputWidgets": {},
     "nuid": "8d1f849d-4c1e-487c-a246-b7dae7a2ef7d",
     "showTitle": false,
     "tableResultSettingsMap": {},
     "title": ""
    }
   },
   "outputs": [],
   "source": [
    "from pyspark.sql.functions import sum, col, lit, current_timestamp\n",
    "from delta.tables import DeltaTable\n",
    "from pydeequ.checks import Check, CheckLevel\n",
    "from pydeequ.verification import VerificationSuite, VerificationResult\n",
    "import os\n",
    "\n",
    "print(os.environ[\"SPARK_VERSION\"])\n",
    "#date_str=\"2024-07-25\"\n",
    "date_str=dbutils.widgets.get(\"arrival_date\")\n",
    "\n",
    "booking_data=f\"/Volumes/incremental_load/default/orders_data/booking_data/bookings_{date_str}.csv\"\n",
    "customer_data=f\"/Volumes/incremental_load/default/orders_data/customer_data/customers_{date_str}.csv\"\n",
    "\n",
    "print(booking_data)\n",
    "print(customer_data)\n",
    "\n",
    "bookings_df=spark.read\\\n",
    "                .format(\"csv\")\\\n",
    "                .option(\"header\",True)\\\n",
    "                .option(\"inferSchema\",True)\\\n",
    "                .option(\"quote\",\"\\\"\")\\\n",
    "                .option(\"multiLine\",\"true\")\\\n",
    "                .load(booking_data)\n",
    "bookings_df.printSchema()\n",
    "display(bookings_df)\n",
    "customers_df=spark.read\\\n",
    "                .format(\"csv\")\\\n",
    "                .option(\"header\",True)\\\n",
    "                .option(\"inferSchema\",True)\\\n",
    "                .option(\"quote\",\"\\\"\")\\\n",
    "                .option(\"multiLine\",\"true\")\\\n",
    "                .load(customer_data)\n",
    "customers_df.printSchema()\n",
    "display(customers_df)\n"
   ]
  },
  {
   "cell_type": "code",
   "execution_count": 0,
   "metadata": {
    "application/vnd.databricks.v1+cell": {
     "cellMetadata": {
      "byteLimit": 2048000,
      "rowLimit": 10000
     },
     "inputWidgets": {},
     "nuid": "6ddc73ce-7f2f-4928-aa00-d080c85b5d18",
     "showTitle": false,
     "tableResultSettingsMap": {},
     "title": ""
    }
   },
   "outputs": [],
   "source": [
    "#Applying checks\n",
    "check_bookings=Check(spark, CheckLevel.Error, \"Check for bookings\")\\\n",
    "                .hasSize(lambda x: x > 0)\\\n",
    "                .isUnique(\"booking_id\", hint=\"Booking ID is not unique throughout\")\\\n",
    "                .isComplete(\"customer_id\")\\\n",
    "                .isComplete(\"booking_id\")\\\n",
    "                .isNonNegative(\"amount\")\\\n",
    "                .isNonNegative(\"quantity\")\\\n",
    "                .isNonNegative(\"discount\")\\\n",
    "\n",
    "check_customers=Check(spark, CheckLevel.Error, \"Check for customers\")\\\n",
    "                .hasSize(lambda x: x > 0)\\\n",
    "                .isUnique(\"customer_id\", hint=\"Customer ID is not unique throughout\")\\\n",
    "                .isComplete(\"customer_name\")\\\n",
    "                .isComplete(\"customer_address\")\\\n",
    "                .isComplete(\"email\")\\\n",
    "\n",
    "booking_dq_check=VerificationSuite(spark)\\\n",
    "                .onData(bookings_df)\\\n",
    "                .addCheck(check_bookings)\\\n",
    "                .run()\n",
    "customer_dq_check=VerificationSuite(spark)\\\n",
    "                    .onData(customers_df)\\\n",
    "                    .addCheck(check_customers)\\\n",
    "                    .run()\n",
    "\n",
    "booking_dq_check_df = VerificationResult.checkResultsAsDataFrame(spark, booking_dq_check)\n",
    "display(booking_dq_check_df)\n",
    "\n",
    "customer_dq_check_df = VerificationResult.checkResultsAsDataFrame(spark, customer_dq_check)\n",
    "display(customer_dq_check_df)\n",
    "\n",
    "if booking_dq_check.status!=\"Success\":\n",
    "    raise ValueError(\"Data quality check failed for bookings\")\n",
    "if customer_dq_check.status!=\"Success\":\n",
    "    raise ValueError(\"Data quality check failed for customers\")"
   ]
  },
  {
   "cell_type": "code",
   "execution_count": 0,
   "metadata": {
    "application/vnd.databricks.v1+cell": {
     "cellMetadata": {
      "byteLimit": 2048000,
      "rowLimit": 10000
     },
     "inputWidgets": {},
     "nuid": "c0dbd4ed-03d7-44fa-9172-b4d04b37022e",
     "showTitle": false,
     "tableResultSettingsMap": {},
     "title": ""
    }
   },
   "outputs": [],
   "source": [
    "#Transformation\n",
    "bookings_df_incremental=bookings_df.withColumn(\"ingestion_time\",current_timestamp())\n",
    "bookings_joined=bookings_df_incremental.join(customers_df,\"customer_id\")\n",
    "\n",
    "df_transformed=bookings_joined.withColumn(\"total_cost\",col(\"amount\")-col(\"discount\"))\\\n",
    "                            .filter(col(\"quantity\") > 0)\n",
    "\n",
    "df_agg=df_transformed.groupBy(\"booking_type\",\"customer_id\")\\\n",
    "                        .agg(\n",
    "                            sum(\"total_cost\").alias(\"total_amount_sum\"),\n",
    "                            sum(\"quantity\").alias(\"total_quantity_sum\")\n",
    "                        )\n"
   ]
  },
  {
   "cell_type": "code",
   "execution_count": 0,
   "metadata": {
    "application/vnd.databricks.v1+cell": {
     "cellMetadata": {
      "byteLimit": 2048000,
      "rowLimit": 10000
     },
     "inputWidgets": {},
     "nuid": "2b4a365b-0f4e-4558-9fe3-a48de19863c6",
     "showTitle": false,
     "tableResultSettingsMap": {},
     "title": ""
    }
   },
   "outputs": [],
   "source": [
    "#writing into fact table\n",
    "fact_table_path=\"incremental_load.default.bookings_fact\"\n",
    "fact_table_exists=spark._jsparkSession.catalog().tableExists(fact_table_path)\n",
    "\n",
    "if fact_table_exists:\n",
    "    df_existing_fact=spark.read.format(\"delta\").table(fact_table_path)\n",
    "\n",
    "    df_combined=df_existing_fact.unionByName(df_agg,allowMissingColumns=True)\n",
    "    df_final_agg=df_combined.groupBy(\"booking_type\",\"customer_id\")\\\n",
    "                            .agg(\n",
    "                            sum(\"total_amount_sum\").alias(\"total_amount_sum\"),\n",
    "                            sum(\"total_quantity_sum\").alias(\"total_quantity_sum\")\n",
    "                        )\n",
    "else:\n",
    "    df_final_agg=df_agg\n",
    "display(df_final_agg)\n",
    "\n",
    "df_final_agg.write.format(\"delta\").mode(\"overwrite\")\\\n",
    "                    .option(\"overwriteSchema\",True)\\\n",
    "                    .saveAsTable(fact_table_path)"
   ]
  },
  {
   "cell_type": "code",
   "execution_count": 0,
   "metadata": {
    "application/vnd.databricks.v1+cell": {
     "cellMetadata": {
      "byteLimit": 2048000,
      "rowLimit": 10000
     },
     "inputWidgets": {},
     "nuid": "39fa20ff-e8a2-45db-bf5f-fcdf6b853638",
     "showTitle": false,
     "tableResultSettingsMap": {},
     "title": ""
    }
   },
   "outputs": [],
   "source": [
    "scd_table_path=\"incremental_load.default.customer_dim\"\n",
    "scd_table_exists=spark._jsparkSession.catalog().tableExists(scd_table_path)\n",
    "\n",
    "if scd_table_exists:\n",
    "    scd_table=DeltaTable.forName(spark,scd_table_path)\n",
    "    scd_table.alias(\"scd\")\\\n",
    "        .merge(customers_df.alias(\"updates\"),\n",
    "        \"scd.customer_id = updates.customer_id and scd.valid_to='9999-12-31'\")\\\n",
    "        .whenMatchedUpdate(\n",
    "            set={\n",
    "                \"valid_to\":\"updates.valid_from\"\n",
    "            }\n",
    "        )\\\n",
    "        .execute()\n",
    "    customers_df.write.format(\"delta\").mode(\"append\").saveAsTable(scd_table_path)\n",
    "else:\n",
    "    customers_df.write.format(\"delta\").mode(\"overwrite\").saveAsTable(scd_table_path)"
   ]
  }
 ],
 "metadata": {
  "application/vnd.databricks.v1+notebook": {
   "computePreferences": null,
   "dashboards": [],
   "environmentMetadata": {
    "base_environment": "",
    "environment_version": "2"
   },
   "inputWidgetPreferences": null,
   "language": "python",
   "notebookMetadata": {
    "pythonIndentUnit": 4
   },
   "notebookName": "scd2_merges",
   "widgets": {}
  },
  "language_info": {
   "name": "python"
  }
 },
 "nbformat": 4,
 "nbformat_minor": 0
}
